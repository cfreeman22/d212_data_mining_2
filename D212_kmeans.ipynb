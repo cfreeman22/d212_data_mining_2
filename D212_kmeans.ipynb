{
  "nbformat": 4,
  "nbformat_minor": 0,
  "metadata": {
    "colab": {
      "provenance": [],
      "authorship_tag": "ABX9TyPe4ZYF/J2bNbe132cTI9XH",
      "include_colab_link": true
    },
    "kernelspec": {
      "name": "python3",
      "display_name": "Python 3"
    },
    "language_info": {
      "name": "python"
    }
  },
  "cells": [
    {
      "cell_type": "markdown",
      "metadata": {
        "id": "view-in-github",
        "colab_type": "text"
      },
      "source": [
        "<a href=\"https://colab.research.google.com/github/cfreeman22/d212_data_mining_2/blob/main/D212_kmeans.ipynb\" target=\"_parent\"><img src=\"https://colab.research.google.com/assets/colab-badge.svg\" alt=\"Open In Colab\"/></a>"
      ]
    },
    {
      "cell_type": "markdown",
      "source": [
        "# DATA Mining 2 TASK 1 Clustering"
      ],
      "metadata": {
        "id": "xO7gUdafj71e"
      }
    },
    {
      "cell_type": "code",
      "source": [
        "import pandas as pd\n",
        "import numpy as np\n",
        "\n",
        "import matplotlib.pylab as plt\n",
        "%matplotlib inline\n",
        "\n",
        "import seaborn as sns\n",
        "from sklearn.model_selection  import train_test_split\n",
        "from sklearn.cluster import KMeans\n",
        "\n",
        "from scipy.stats import zscore\n",
        "\n",
        "# to scale the data using z-score\n",
        "from sklearn.preprocessing import StandardScaler\n",
        "\n",
        "# to compute distances\n",
        "from scipy.spatial.distance import cdist\n",
        "\n",
        "# to perform k-means clustering and compute silhouette scores\n",
        "from sklearn.cluster import KMeans\n",
        "from sklearn.metrics import silhouette_score\n",
        "\n",
        "# to visualize the elbow curve and silhouette scores\n",
        "from yellowbrick.cluster import KElbowVisualizer, SilhouetteVisualizer"
      ],
      "metadata": {
        "id": "NKUeUOR8lmPX"
      },
      "execution_count": 1,
      "outputs": []
    },
    {
      "cell_type": "code",
      "source": [
        "def treat_outliers(df, col):\n",
        "    \"\"\"\n",
        "    Treats outliers in a variable\n",
        "    df: dataframe\n",
        "    col: dataframe column\n",
        "    \"\"\"\n",
        "    Q1 = df[col].quantile(0.25)  # 25th quantile\n",
        "    Q3 = df[col].quantile(0.75)  # 75th quantile\n",
        "    IQR = Q3 - Q1\n",
        "    Lower_Whisker = Q1 - 1.5 * IQR\n",
        "    Upper_Whisker = Q3 + 1.5 * IQR\n",
        "\n",
        "    # all the values smaller than Lower_Whisker will be assigned the value of Lower_Whisker\n",
        "    # all the values greater than Upper_Whisker will be assigned the value of Upper_Whisker\n",
        "    df[col] = np.clip(df[col], Lower_Whisker, Upper_Whisker)\n",
        "\n",
        "    return df\n",
        "\n",
        "\n",
        "def treat_outliers_all(df, col_list):\n",
        "    \"\"\"\n",
        "    Treat outliers in a list of variables\n",
        "    df: dataframe\n",
        "    col_list: list of dataframe columns\n",
        "    \"\"\"\n",
        "    for c in col_list:\n",
        "        df = treat_outliers(df, c)\n",
        "\n",
        "    return df"
      ],
      "metadata": {
        "id": "tzdkV9vGChJZ"
      },
      "execution_count": 24,
      "outputs": []
    },
    {
      "cell_type": "code",
      "source": [
        "#reading the data\n",
        "from google.colab import drive\n",
        "drive.mount('/content/drive')"
      ],
      "metadata": {
        "colab": {
          "base_uri": "https://localhost:8080/"
        },
        "id": "ZShiNVKgkV4N",
        "outputId": "23fcab0a-7bdb-48f9-dd6f-fb4466f20335"
      },
      "execution_count": 2,
      "outputs": [
        {
          "output_type": "stream",
          "name": "stdout",
          "text": [
            "Mounted at /content/drive\n"
          ]
        }
      ]
    },
    {
      "cell_type": "code",
      "source": [
        "#Reading the data from my google drive.\n",
        "df = pd.read_csv('/content/drive/My Drive/churn_clean.csv')"
      ],
      "metadata": {
        "id": "O4lhL9pUkY0k"
      },
      "execution_count": 3,
      "outputs": []
    },
    {
      "cell_type": "markdown",
      "source": [
        "## Data Preeparation steps"
      ],
      "metadata": {
        "id": "s720__89kqDq"
      }
    },
    {
      "cell_type": "code",
      "source": [
        "df.dtypes"
      ],
      "metadata": {
        "colab": {
          "base_uri": "https://localhost:8080/"
        },
        "id": "LKdK2MZikq9s",
        "outputId": "c56656f3-9848-4610-af5a-e7ad508d2a8f"
      },
      "execution_count": 4,
      "outputs": [
        {
          "output_type": "execute_result",
          "data": {
            "text/plain": [
              "CaseOrder                 int64\n",
              "Customer_id              object\n",
              "Interaction              object\n",
              "UID                      object\n",
              "City                     object\n",
              "State                    object\n",
              "County                   object\n",
              "Zip                       int64\n",
              "Lat                     float64\n",
              "Lng                     float64\n",
              "Population                int64\n",
              "Area                     object\n",
              "TimeZone                 object\n",
              "Job                      object\n",
              "Children                  int64\n",
              "Age                       int64\n",
              "Income                  float64\n",
              "Marital                  object\n",
              "Gender                   object\n",
              "Churn                    object\n",
              "Outage_sec_perweek      float64\n",
              "Email                     int64\n",
              "Contacts                  int64\n",
              "Yearly_equip_failure      int64\n",
              "Techie                   object\n",
              "Contract                 object\n",
              "Port_modem               object\n",
              "Tablet                   object\n",
              "InternetService          object\n",
              "Phone                    object\n",
              "Multiple                 object\n",
              "OnlineSecurity           object\n",
              "OnlineBackup             object\n",
              "DeviceProtection         object\n",
              "TechSupport              object\n",
              "StreamingTV              object\n",
              "StreamingMovies          object\n",
              "PaperlessBilling         object\n",
              "PaymentMethod            object\n",
              "Tenure                  float64\n",
              "MonthlyCharge           float64\n",
              "Bandwidth_GB_Year       float64\n",
              "Item1                     int64\n",
              "Item2                     int64\n",
              "Item3                     int64\n",
              "Item4                     int64\n",
              "Item5                     int64\n",
              "Item6                     int64\n",
              "Item7                     int64\n",
              "Item8                     int64\n",
              "dtype: object"
            ]
          },
          "metadata": {},
          "execution_count": 4
        }
      ]
    },
    {
      "cell_type": "code",
      "source": [
        "# Checking for duplicates\n",
        "df.duplicated().sum()"
      ],
      "metadata": {
        "colab": {
          "base_uri": "https://localhost:8080/"
        },
        "id": "5lvgUQuol9-6",
        "outputId": "4cb0aa9f-1e1e-400e-f8da-fcd9c52d2b2b"
      },
      "execution_count": 5,
      "outputs": [
        {
          "output_type": "execute_result",
          "data": {
            "text/plain": [
              "0"
            ]
          },
          "metadata": {},
          "execution_count": 5
        }
      ]
    },
    {
      "cell_type": "code",
      "source": [
        "#Checking for null\n",
        "df.isnull().values.any()"
      ],
      "metadata": {
        "colab": {
          "base_uri": "https://localhost:8080/"
        },
        "id": "-gbu4WIttX4U",
        "outputId": "66944c46-0b1e-4bf2-a9e1-fb63668ecd28"
      },
      "execution_count": 6,
      "outputs": [
        {
          "output_type": "execute_result",
          "data": {
            "text/plain": [
              "False"
            ]
          },
          "metadata": {},
          "execution_count": 6
        }
      ]
    },
    {
      "cell_type": "code",
      "source": [
        "# Dropping unnecessary columns\n",
        "cols_to_drop =['CaseOrder', 'Customer_id', 'Interaction', 'UID', 'Zip', 'Lat', 'Lng', 'TimeZone','City', 'State', 'County','Job','Population' ]\n",
        "\n",
        "# Dropping unnecessary columns\n",
        "df = df.drop(cols_to_drop, axis = 1)\n",
        "\n",
        "# renaming the survey items columns\n",
        "df = df.rename(columns={'Item1': 'TimelyResponse','Item2': 'TimelyFixes' , 'Item3': 'TimelyReplacements', 'Item4': 'Reliability',\n",
        "\n",
        "                          'Item5': 'Options', 'Item6': 'RespectfulResponse', 'Item7': 'CourteousExchange', 'Item8': 'ActiveListening'})\n",
        "\n",
        "# Checking to confirm if unnecessary columns were dropped and survey columns renamed appropriately\n",
        "\n",
        "df.info()"
      ],
      "metadata": {
        "colab": {
          "base_uri": "https://localhost:8080/"
        },
        "id": "uoVrBRoZtctV",
        "outputId": "5e1471fe-4237-4c49-8fb8-23793bddc180"
      },
      "execution_count": 7,
      "outputs": [
        {
          "output_type": "stream",
          "name": "stdout",
          "text": [
            "<class 'pandas.core.frame.DataFrame'>\n",
            "RangeIndex: 10000 entries, 0 to 9999\n",
            "Data columns (total 37 columns):\n",
            " #   Column                Non-Null Count  Dtype  \n",
            "---  ------                --------------  -----  \n",
            " 0   Area                  10000 non-null  object \n",
            " 1   Children              10000 non-null  int64  \n",
            " 2   Age                   10000 non-null  int64  \n",
            " 3   Income                10000 non-null  float64\n",
            " 4   Marital               10000 non-null  object \n",
            " 5   Gender                10000 non-null  object \n",
            " 6   Churn                 10000 non-null  object \n",
            " 7   Outage_sec_perweek    10000 non-null  float64\n",
            " 8   Email                 10000 non-null  int64  \n",
            " 9   Contacts              10000 non-null  int64  \n",
            " 10  Yearly_equip_failure  10000 non-null  int64  \n",
            " 11  Techie                10000 non-null  object \n",
            " 12  Contract              10000 non-null  object \n",
            " 13  Port_modem            10000 non-null  object \n",
            " 14  Tablet                10000 non-null  object \n",
            " 15  InternetService       10000 non-null  object \n",
            " 16  Phone                 10000 non-null  object \n",
            " 17  Multiple              10000 non-null  object \n",
            " 18  OnlineSecurity        10000 non-null  object \n",
            " 19  OnlineBackup          10000 non-null  object \n",
            " 20  DeviceProtection      10000 non-null  object \n",
            " 21  TechSupport           10000 non-null  object \n",
            " 22  StreamingTV           10000 non-null  object \n",
            " 23  StreamingMovies       10000 non-null  object \n",
            " 24  PaperlessBilling      10000 non-null  object \n",
            " 25  PaymentMethod         10000 non-null  object \n",
            " 26  Tenure                10000 non-null  float64\n",
            " 27  MonthlyCharge         10000 non-null  float64\n",
            " 28  Bandwidth_GB_Year     10000 non-null  float64\n",
            " 29  TimelyResponse        10000 non-null  int64  \n",
            " 30  TimelyFixes           10000 non-null  int64  \n",
            " 31  TimelyReplacements    10000 non-null  int64  \n",
            " 32  Reliability           10000 non-null  int64  \n",
            " 33  Options               10000 non-null  int64  \n",
            " 34  RespectfulResponse    10000 non-null  int64  \n",
            " 35  CourteousExchange     10000 non-null  int64  \n",
            " 36  ActiveListening       10000 non-null  int64  \n",
            "dtypes: float64(5), int64(13), object(19)\n",
            "memory usage: 2.8+ MB\n"
          ]
        }
      ]
    },
    {
      "cell_type": "code",
      "source": [
        "#df.Churn = df.Churn.map({'Yes':1 ,'No':0}).astype('int')"
      ],
      "metadata": {
        "id": "ofKUGH12tqk4"
      },
      "execution_count": 8,
      "outputs": []
    },
    {
      "cell_type": "code",
      "source": [
        "df.Area.value_counts()"
      ],
      "metadata": {
        "colab": {
          "base_uri": "https://localhost:8080/"
        },
        "id": "Du_4NUoVt3ee",
        "outputId": "7958fd79-b16f-4c31-dbc1-f16058a29708"
      },
      "execution_count": 9,
      "outputs": [
        {
          "output_type": "execute_result",
          "data": {
            "text/plain": [
              "Suburban    3346\n",
              "Urban       3327\n",
              "Rural       3327\n",
              "Name: Area, dtype: int64"
            ]
          },
          "metadata": {},
          "execution_count": 9
        }
      ]
    },
    {
      "cell_type": "code",
      "source": [
        "df.Marital.value_counts()"
      ],
      "metadata": {
        "colab": {
          "base_uri": "https://localhost:8080/"
        },
        "id": "J5mpSwaevz98",
        "outputId": "a6317dd0-08ae-41b5-f8f8-9be89fae5429"
      },
      "execution_count": 10,
      "outputs": [
        {
          "output_type": "execute_result",
          "data": {
            "text/plain": [
              "Divorced         2092\n",
              "Widowed          2027\n",
              "Separated        2014\n",
              "Never Married    1956\n",
              "Married          1911\n",
              "Name: Marital, dtype: int64"
            ]
          },
          "metadata": {},
          "execution_count": 10
        }
      ]
    },
    {
      "cell_type": "code",
      "source": [
        "df.Gender.value_counts()"
      ],
      "metadata": {
        "colab": {
          "base_uri": "https://localhost:8080/"
        },
        "id": "ZMWo9uxzv8Kp",
        "outputId": "d5129a86-a0ea-4378-b6cc-90937c52d24f"
      },
      "execution_count": 11,
      "outputs": [
        {
          "output_type": "execute_result",
          "data": {
            "text/plain": [
              "Female       5025\n",
              "Male         4744\n",
              "Nonbinary     231\n",
              "Name: Gender, dtype: int64"
            ]
          },
          "metadata": {},
          "execution_count": 11
        }
      ]
    },
    {
      "cell_type": "code",
      "source": [
        "df.PaymentMethod.value_counts()"
      ],
      "metadata": {
        "colab": {
          "base_uri": "https://localhost:8080/"
        },
        "id": "IbeWMWqdwBuJ",
        "outputId": "1b870784-79f5-48bb-fddf-04deaf7c0eca"
      },
      "execution_count": 12,
      "outputs": [
        {
          "output_type": "execute_result",
          "data": {
            "text/plain": [
              "Electronic Check            3398\n",
              "Mailed Check                2290\n",
              "Bank Transfer(automatic)    2229\n",
              "Credit Card (automatic)     2083\n",
              "Name: PaymentMethod, dtype: int64"
            ]
          },
          "metadata": {},
          "execution_count": 12
        }
      ]
    },
    {
      "cell_type": "code",
      "source": [
        "df.InternetService.value_counts()"
      ],
      "metadata": {
        "colab": {
          "base_uri": "https://localhost:8080/"
        },
        "id": "pn6wQET9wGaa",
        "outputId": "4ea59e12-f08d-4578-d29c-4a073ef703c6"
      },
      "execution_count": 13,
      "outputs": [
        {
          "output_type": "execute_result",
          "data": {
            "text/plain": [
              "Fiber Optic    4408\n",
              "DSL            3463\n",
              "None           2129\n",
              "Name: InternetService, dtype: int64"
            ]
          },
          "metadata": {},
          "execution_count": 13
        }
      ]
    },
    {
      "cell_type": "code",
      "source": [
        "df.Contract.value_counts()"
      ],
      "metadata": {
        "colab": {
          "base_uri": "https://localhost:8080/"
        },
        "id": "uaqiV2oawLAa",
        "outputId": "0a29d2c3-000b-48d3-855f-cb5dab561a8d"
      },
      "execution_count": 14,
      "outputs": [
        {
          "output_type": "execute_result",
          "data": {
            "text/plain": [
              "Month-to-month    5456\n",
              "Two Year          2442\n",
              "One year          2102\n",
              "Name: Contract, dtype: int64"
            ]
          },
          "metadata": {},
          "execution_count": 14
        }
      ]
    },
    {
      "cell_type": "code",
      "source": [
        "## DROP EITHER TENURE OR BANDWIDTH from previous analysis these two features were highly correlated\n",
        "#df = df.drop('Bandwidth_GB_Year', axis = 1)"
      ],
      "metadata": {
        "id": "Ce6nocgkwS2K"
      },
      "execution_count": 15,
      "outputs": []
    },
    {
      "cell_type": "code",
      "source": [
        "# Dropping unnecessary categorical columns ...........\n",
        "cols_to_drop2 =['Area', 'Marital', 'Gender', 'PaymentMethod', 'InternetService', 'Contract','Bandwidth_GB_Year' ]\n",
        "\n",
        "# Dropping unnecessary columns\n",
        "df = df.drop(cols_to_drop2, axis = 1)"
      ],
      "metadata": {
        "id": "5bzOy3XxzAh0"
      },
      "execution_count": 16,
      "outputs": []
    },
    {
      "cell_type": "code",
      "source": [
        "df.info()"
      ],
      "metadata": {
        "colab": {
          "base_uri": "https://localhost:8080/"
        },
        "id": "eSlrMyrYz9zo",
        "outputId": "eb3cf32a-04de-4723-a7ad-950b2b049b69"
      },
      "execution_count": 17,
      "outputs": [
        {
          "output_type": "stream",
          "name": "stdout",
          "text": [
            "<class 'pandas.core.frame.DataFrame'>\n",
            "RangeIndex: 10000 entries, 0 to 9999\n",
            "Data columns (total 30 columns):\n",
            " #   Column                Non-Null Count  Dtype  \n",
            "---  ------                --------------  -----  \n",
            " 0   Children              10000 non-null  int64  \n",
            " 1   Age                   10000 non-null  int64  \n",
            " 2   Income                10000 non-null  float64\n",
            " 3   Churn                 10000 non-null  object \n",
            " 4   Outage_sec_perweek    10000 non-null  float64\n",
            " 5   Email                 10000 non-null  int64  \n",
            " 6   Contacts              10000 non-null  int64  \n",
            " 7   Yearly_equip_failure  10000 non-null  int64  \n",
            " 8   Techie                10000 non-null  object \n",
            " 9   Port_modem            10000 non-null  object \n",
            " 10  Tablet                10000 non-null  object \n",
            " 11  Phone                 10000 non-null  object \n",
            " 12  Multiple              10000 non-null  object \n",
            " 13  OnlineSecurity        10000 non-null  object \n",
            " 14  OnlineBackup          10000 non-null  object \n",
            " 15  DeviceProtection      10000 non-null  object \n",
            " 16  TechSupport           10000 non-null  object \n",
            " 17  StreamingTV           10000 non-null  object \n",
            " 18  StreamingMovies       10000 non-null  object \n",
            " 19  PaperlessBilling      10000 non-null  object \n",
            " 20  Tenure                10000 non-null  float64\n",
            " 21  MonthlyCharge         10000 non-null  float64\n",
            " 22  TimelyResponse        10000 non-null  int64  \n",
            " 23  TimelyFixes           10000 non-null  int64  \n",
            " 24  TimelyReplacements    10000 non-null  int64  \n",
            " 25  Reliability           10000 non-null  int64  \n",
            " 26  Options               10000 non-null  int64  \n",
            " 27  RespectfulResponse    10000 non-null  int64  \n",
            " 28  CourteousExchange     10000 non-null  int64  \n",
            " 29  ActiveListening       10000 non-null  int64  \n",
            "dtypes: float64(4), int64(13), object(13)\n",
            "memory usage: 2.3+ MB\n"
          ]
        }
      ]
    },
    {
      "cell_type": "code",
      "source": [
        "#extracting categorical variables\n",
        "cat_vars =  df.select_dtypes(include=['object']).columns.to_list()\n",
        "cat_vars"
      ],
      "metadata": {
        "colab": {
          "base_uri": "https://localhost:8080/"
        },
        "id": "ZvV2owh20CFq",
        "outputId": "5f855f69-297a-4f36-b617-591601ba0b90"
      },
      "execution_count": 18,
      "outputs": [
        {
          "output_type": "execute_result",
          "data": {
            "text/plain": [
              "['Churn',\n",
              " 'Techie',\n",
              " 'Port_modem',\n",
              " 'Tablet',\n",
              " 'Phone',\n",
              " 'Multiple',\n",
              " 'OnlineSecurity',\n",
              " 'OnlineBackup',\n",
              " 'DeviceProtection',\n",
              " 'TechSupport',\n",
              " 'StreamingTV',\n",
              " 'StreamingMovies',\n",
              " 'PaperlessBilling']"
            ]
          },
          "metadata": {},
          "execution_count": 18
        }
      ]
    },
    {
      "cell_type": "code",
      "source": [
        "df[cat_vars] = df[cat_vars].stack().map({'Yes':1 ,'No':0}).unstack()"
      ],
      "metadata": {
        "id": "7j5PqwJk8AyU"
      },
      "execution_count": 19,
      "outputs": []
    },
    {
      "cell_type": "code",
      "source": [
        "df.info()"
      ],
      "metadata": {
        "colab": {
          "base_uri": "https://localhost:8080/"
        },
        "id": "4Vi_HYP08S5K",
        "outputId": "7442afd0-e222-437a-e769-1c0d0a79667f"
      },
      "execution_count": 20,
      "outputs": [
        {
          "output_type": "stream",
          "name": "stdout",
          "text": [
            "<class 'pandas.core.frame.DataFrame'>\n",
            "RangeIndex: 10000 entries, 0 to 9999\n",
            "Data columns (total 30 columns):\n",
            " #   Column                Non-Null Count  Dtype  \n",
            "---  ------                --------------  -----  \n",
            " 0   Children              10000 non-null  int64  \n",
            " 1   Age                   10000 non-null  int64  \n",
            " 2   Income                10000 non-null  float64\n",
            " 3   Churn                 10000 non-null  int64  \n",
            " 4   Outage_sec_perweek    10000 non-null  float64\n",
            " 5   Email                 10000 non-null  int64  \n",
            " 6   Contacts              10000 non-null  int64  \n",
            " 7   Yearly_equip_failure  10000 non-null  int64  \n",
            " 8   Techie                10000 non-null  int64  \n",
            " 9   Port_modem            10000 non-null  int64  \n",
            " 10  Tablet                10000 non-null  int64  \n",
            " 11  Phone                 10000 non-null  int64  \n",
            " 12  Multiple              10000 non-null  int64  \n",
            " 13  OnlineSecurity        10000 non-null  int64  \n",
            " 14  OnlineBackup          10000 non-null  int64  \n",
            " 15  DeviceProtection      10000 non-null  int64  \n",
            " 16  TechSupport           10000 non-null  int64  \n",
            " 17  StreamingTV           10000 non-null  int64  \n",
            " 18  StreamingMovies       10000 non-null  int64  \n",
            " 19  PaperlessBilling      10000 non-null  int64  \n",
            " 20  Tenure                10000 non-null  float64\n",
            " 21  MonthlyCharge         10000 non-null  float64\n",
            " 22  TimelyResponse        10000 non-null  int64  \n",
            " 23  TimelyFixes           10000 non-null  int64  \n",
            " 24  TimelyReplacements    10000 non-null  int64  \n",
            " 25  Reliability           10000 non-null  int64  \n",
            " 26  Options               10000 non-null  int64  \n",
            " 27  RespectfulResponse    10000 non-null  int64  \n",
            " 28  CourteousExchange     10000 non-null  int64  \n",
            " 29  ActiveListening       10000 non-null  int64  \n",
            "dtypes: float64(4), int64(26)\n",
            "memory usage: 2.3 MB\n"
          ]
        }
      ]
    },
    {
      "cell_type": "code",
      "source": [
        "# Extracting numerical variables\n",
        "num_vars =[]\n",
        "for x in df.columns.to_list():\n",
        "  if x not in cat_vars:\n",
        "    num_vars.append(x)"
      ],
      "metadata": {
        "id": "rzM3VnrbBKll"
      },
      "execution_count": 21,
      "outputs": []
    },
    {
      "cell_type": "code",
      "source": [
        "num_vars"
      ],
      "metadata": {
        "colab": {
          "base_uri": "https://localhost:8080/"
        },
        "id": "GcgIcqDRBdal",
        "outputId": "1402fad0-5950-4f53-8c1f-aec160fbc2d1"
      },
      "execution_count": 22,
      "outputs": [
        {
          "output_type": "execute_result",
          "data": {
            "text/plain": [
              "['Children',\n",
              " 'Age',\n",
              " 'Income',\n",
              " 'Outage_sec_perweek',\n",
              " 'Email',\n",
              " 'Contacts',\n",
              " 'Yearly_equip_failure',\n",
              " 'Tenure',\n",
              " 'MonthlyCharge',\n",
              " 'TimelyResponse',\n",
              " 'TimelyFixes',\n",
              " 'TimelyReplacements',\n",
              " 'Reliability',\n",
              " 'Options',\n",
              " 'RespectfulResponse',\n",
              " 'CourteousExchange',\n",
              " 'ActiveListening']"
            ]
          },
          "metadata": {},
          "execution_count": 22
        }
      ]
    },
    {
      "cell_type": "code",
      "source": [
        "\n",
        "# Detecting all outliers in case we missed some in exploration\n",
        "\n",
        "plt.figure(figsize=(20, 30))\n",
        "\n",
        "for i, variable in enumerate(num_vars):\n",
        "    plt.subplot(5, 4, i + 1)\n",
        "    plt.boxplot(df[variable], whis=1.5)\n",
        "    plt.tight_layout()\n",
        "    plt.title(variable)\n",
        "\n",
        "plt.show()"
      ],
      "metadata": {
        "colab": {
          "base_uri": "https://localhost:8080/",
          "height": 1000
        },
        "id": "r2y8kh_H-JIp",
        "outputId": "a725f12d-0ab7-4342-af50-9751c71bce93"
      },
      "execution_count": 23,
      "outputs": [
        {
          "output_type": "display_data",
          "data": {
            "text/plain": [
              "<Figure size 1440x2160 with 17 Axes>"
            ],
            "image/png": "[encoded data removed]"
          },
          "metadata": {}
        }
      ]
    },
    {
      "cell_type": "code",
      "source": [
        "#treating outliers\n",
        "col_to_treat = ['Mortgage', 'Income', 'CCAvg','portion_CCavg_Income']\n",
        "df = treat_outliers_all(df, col_to_treat)"
      ],
      "metadata": {
        "id": "kuk3LZeeB6wv"
      },
      "execution_count": null,
      "outputs": []
    }
  ]
}